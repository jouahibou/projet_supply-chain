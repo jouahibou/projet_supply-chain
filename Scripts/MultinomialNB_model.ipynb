{
 "cells": [
  {
   "cell_type": "code",
   "execution_count": 1,
   "metadata": {},
   "outputs": [],
   "source": [
    "from elasticsearch import Elasticsearch\n",
    "import pandas as pd\n",
    "import matplotlib.pyplot as plt\n",
    "import warnings\n",
    "\n",
    "from sklearn.model_selection import train_test_split\n",
    "from sklearn.feature_extraction.text import CountVectorizer\n",
    "from sklearn.naive_bayes import MultinomialNB\n",
    "\n",
    "from sklearn.metrics import plot_confusion_matrix, classification_report\n",
    "from sklearn.pipeline import Pipeline\n",
    "import joblib\n",
    "\n",
    "warnings.filterwarnings('ignore')"
   ]
  },
  {
   "cell_type": "code",
   "execution_count": 2,
   "metadata": {},
   "outputs": [],
   "source": [
    "es = Elasticsearch(hosts = [\"http://79.125.3.215:9200\"])\n",
    "\n",
    "query = {\n",
    "    \"query\": {\n",
    "        \"match_all\": {}\n",
    "    },\n",
    "    \"size\": 1000  # Adjust batch size as per your requirements\n",
    "}\n",
    "\n",
    "scroll = es.search(index=\"asurion\", body=query, scroll=\"5m\")\n",
    "scroll_id = scroll[\"_scroll_id\"]\n",
    "\n",
    "hits = scroll[\"hits\"][\"hits\"]\n",
    "data = [hit[\"_source\"] for hit in hits]\n",
    "\n",
    "while len(hits) > 0:\n",
    "    scroll = es.scroll(scroll_id=scroll_id, scroll=\"5m\")\n",
    "    hits = scroll[\"hits\"][\"hits\"]\n",
    "    data.extend([hit[\"_source\"] for hit in hits])\n",
    "\n",
    "df = pd.DataFrame(data)"
   ]
  },
  {
   "cell_type": "code",
   "execution_count": 3,
   "metadata": {},
   "outputs": [],
   "source": [
    "df[\"text\"] = df[\"titre\"] + \" \" + df[\"comment\"]\n",
    "df[\"target\"] = df[\"stars\"].str[6]\n",
    "df = df[[\"text\", \"target\"]].copy()\n",
    "df = df.dropna()\n",
    "df[\"target\"] = df[\"target\"].astype(int)"
   ]
  },
  {
   "cell_type": "code",
   "execution_count": 4,
   "metadata": {},
   "outputs": [],
   "source": [
    "def delete_punctiation(df, comment_col):\n",
    "    \"\"\"\n",
    "    Removes punctuation from the specified column of a DataFrame.\n",
    "\n",
    "    Args:\n",
    "        df (pandas.DataFrame): The DataFrame containing the text column.\n",
    "        comment_col (str): The name of the column to remove punctuation from.\n",
    "\n",
    "    Returns:\n",
    "        None. The DataFrame is modified in-place.\n",
    "\n",
    "    \"\"\"\n",
    "    pattern = r'[^a-zA-Z0-9\\s]'\n",
    "    df[comment_col] = df[comment_col].replace(pattern, ' ', regex=True)\n",
    "    df[comment_col] = df[comment_col].str.replace('  ', ' ')\n",
    "\n",
    "\n",
    "def truncate_text_column(df, column):\n",
    "    df[column] = df[column].apply(lambda x: ' '.join(x.split()[:499]))\n",
    "    return df\n",
    "\n",
    "\n",
    "def text_cleaner(column):\n",
    "    df[column] = df[column].str.lower() \\\n",
    "                            .str.strip() \\\n",
    "                            .str.replace(r'\\s+', ' ')\n"
   ]
  },
  {
   "cell_type": "code",
   "execution_count": 5,
   "metadata": {},
   "outputs": [
    {
     "data": {
      "text/html": [
       "<div>\n",
       "<style scoped>\n",
       "    .dataframe tbody tr th:only-of-type {\n",
       "        vertical-align: middle;\n",
       "    }\n",
       "\n",
       "    .dataframe tbody tr th {\n",
       "        vertical-align: top;\n",
       "    }\n",
       "\n",
       "    .dataframe thead th {\n",
       "        text-align: right;\n",
       "    }\n",
       "</style>\n",
       "<table border=\"1\" class=\"dataframe\">\n",
       "  <thead>\n",
       "    <tr style=\"text-align: right;\">\n",
       "      <th></th>\n",
       "      <th>text</th>\n",
       "      <th>target</th>\n",
       "    </tr>\n",
       "  </thead>\n",
       "  <tbody>\n",
       "    <tr>\n",
       "      <th>0</th>\n",
       "      <td>excellent service with any insurance claim you...</td>\n",
       "      <td>5</td>\n",
       "    </tr>\n",
       "    <tr>\n",
       "      <th>1</th>\n",
       "      <td>everything went very well everything went very...</td>\n",
       "      <td>5</td>\n",
       "    </tr>\n",
       "    <tr>\n",
       "      <th>2</th>\n",
       "      <td>online system is not working this used to be m...</td>\n",
       "      <td>1</td>\n",
       "    </tr>\n",
       "    <tr>\n",
       "      <th>3</th>\n",
       "      <td>amazing customer service my customer care pers...</td>\n",
       "      <td>5</td>\n",
       "    </tr>\n",
       "    <tr>\n",
       "      <th>4</th>\n",
       "      <td>the service tech just showed up to the service...</td>\n",
       "      <td>3</td>\n",
       "    </tr>\n",
       "    <tr>\n",
       "      <th>...</th>\n",
       "      <td>...</td>\n",
       "      <td>...</td>\n",
       "    </tr>\n",
       "    <tr>\n",
       "      <th>91768</th>\n",
       "      <td>great service and fast very fast service and h...</td>\n",
       "      <td>5</td>\n",
       "    </tr>\n",
       "    <tr>\n",
       "      <th>91769</th>\n",
       "      <td>great service i got the phone the next day as ...</td>\n",
       "      <td>5</td>\n",
       "    </tr>\n",
       "    <tr>\n",
       "      <th>91770</th>\n",
       "      <td>great easy to fill out and quick on delivery</td>\n",
       "      <td>5</td>\n",
       "    </tr>\n",
       "    <tr>\n",
       "      <th>91771</th>\n",
       "      <td>replacement cost then cost of a rebuilt phone ...</td>\n",
       "      <td>4</td>\n",
       "    </tr>\n",
       "    <tr>\n",
       "      <th>91772</th>\n",
       "      <td>as always an easy transaction i have teenage b...</td>\n",
       "      <td>5</td>\n",
       "    </tr>\n",
       "  </tbody>\n",
       "</table>\n",
       "<p>90126 rows × 2 columns</p>\n",
       "</div>"
      ],
      "text/plain": [
       "                                                    text  target\n",
       "0      excellent service with any insurance claim you...       5\n",
       "1      everything went very well everything went very...       5\n",
       "2      online system is not working this used to be m...       1\n",
       "3      amazing customer service my customer care pers...       5\n",
       "4      the service tech just showed up to the service...       3\n",
       "...                                                  ...     ...\n",
       "91768  great service and fast very fast service and h...       5\n",
       "91769  great service i got the phone the next day as ...       5\n",
       "91770       great easy to fill out and quick on delivery       5\n",
       "91771  replacement cost then cost of a rebuilt phone ...       4\n",
       "91772  as always an easy transaction i have teenage b...       5\n",
       "\n",
       "[90126 rows x 2 columns]"
      ]
     },
     "execution_count": 5,
     "metadata": {},
     "output_type": "execute_result"
    }
   ],
   "source": [
    "text_cleaner(\"text\")\n",
    "delete_punctiation(df, \"text\")\n",
    "truncate_text_column(df, 'text')"
   ]
  },
  {
   "cell_type": "markdown",
   "metadata": {},
   "source": [
    "# Divive data into train and test"
   ]
  },
  {
   "cell_type": "code",
   "execution_count": 6,
   "metadata": {},
   "outputs": [],
   "source": [
    "X = df[\"text\"]\n",
    "y = df[\"target\"]\n",
    "\n",
    "# Split the data into training and testing sets\n",
    "X_train, X_test, y_train, y_test = train_test_split(X, y,\n",
    "                                                    test_size = 0.2,\n",
    "                                                    random_state = 1,\n",
    "                                                    shuffle = True,\n",
    "                                                    stratify = y)"
   ]
  },
  {
   "cell_type": "markdown",
   "metadata": {},
   "source": [
    "# Training"
   ]
  },
  {
   "cell_type": "code",
   "execution_count": 7,
   "metadata": {},
   "outputs": [
    {
     "data": {
      "text/plain": [
       "Pipeline(steps=[('vectorizer', CountVectorizer()),\n",
       "                ('classifier', MultinomialNB())])"
      ]
     },
     "execution_count": 7,
     "metadata": {},
     "output_type": "execute_result"
    }
   ],
   "source": [
    "# Train the classifier\n",
    "clf = Pipeline([\n",
    "    ('vectorizer', CountVectorizer()),  # Convert text to numerical features using a Bag-of-Words approach\n",
    "    ('classifier', MultinomialNB())  # Train a Multinomial Naive Bayes classifier\n",
    "])\n",
    "\n",
    "clf.fit(X_train, y_train)"
   ]
  },
  {
   "cell_type": "markdown",
   "metadata": {},
   "source": [
    "# Prediction"
   ]
  },
  {
   "cell_type": "code",
   "execution_count": 8,
   "metadata": {},
   "outputs": [],
   "source": [
    "y_pred_train = clf.predict(X_train)\n",
    "y_pred_test = clf.predict(X_test)"
   ]
  },
  {
   "cell_type": "markdown",
   "metadata": {},
   "source": [
    "# Evaluation"
   ]
  },
  {
   "cell_type": "code",
   "execution_count": 9,
   "metadata": {},
   "outputs": [
    {
     "name": "stdout",
     "output_type": "stream",
     "text": [
      "              precision    recall  f1-score   support\n",
      "\n",
      "           1       0.59      0.88      0.70      1623\n",
      "           2       0.20      0.04      0.06       426\n",
      "           3       0.24      0.11      0.15       604\n",
      "           4       0.40      0.32      0.36      1539\n",
      "           5       0.93      0.94      0.93     13834\n",
      "\n",
      "    accuracy                           0.83     18026\n",
      "   macro avg       0.47      0.46      0.44     18026\n",
      "weighted avg       0.81      0.83      0.82     18026\n",
      "\n"
     ]
    },
    {
     "data": {
      "image/png": "[encoded data removed]",
      "text/plain": [
       "<Figure size 640x480 with 2 Axes>"
      ]
     },
     "metadata": {},
     "output_type": "display_data"
    }
   ],
   "source": [
    "print(classification_report(y_test, y_pred_test))\n",
    "\n",
    "plot_confusion_matrix(clf, X_test, y_test)\n",
    "plt.show()"
   ]
  },
  {
   "cell_type": "markdown",
   "metadata": {},
   "source": [
    "# Save and use the trained model"
   ]
  },
  {
   "cell_type": "code",
   "execution_count": 10,
   "metadata": {},
   "outputs": [
    {
     "data": {
      "text/plain": [
       "array([5, 5, 5, ..., 5, 5, 5])"
      ]
     },
     "execution_count": 10,
     "metadata": {},
     "output_type": "execute_result"
    }
   ],
   "source": [
    "# save the trained model as a joblib file\n",
    "joblib.dump(clf, 'mnb_model.joblib')\n",
    "\n",
    "# load the saved model\n",
    "loaded_clf = joblib.load('mnb_model.joblib')\n",
    "\n",
    "# use the saved model on the test data\n",
    "loaded_clf.predict(X_test)"
   ]
  },
  {
   "cell_type": "markdown",
   "metadata": {},
   "source": [
    "# Test it on personal comments"
   ]
  },
  {
   "cell_type": "code",
   "execution_count": 11,
   "metadata": {},
   "outputs": [
    {
     "data": {
      "text/html": [
       "<div>\n",
       "<style scoped>\n",
       "    .dataframe tbody tr th:only-of-type {\n",
       "        vertical-align: middle;\n",
       "    }\n",
       "\n",
       "    .dataframe tbody tr th {\n",
       "        vertical-align: top;\n",
       "    }\n",
       "\n",
       "    .dataframe thead th {\n",
       "        text-align: right;\n",
       "    }\n",
       "</style>\n",
       "<table border=\"1\" class=\"dataframe\">\n",
       "  <thead>\n",
       "    <tr style=\"text-align: right;\">\n",
       "      <th></th>\n",
       "      <th>text</th>\n",
       "    </tr>\n",
       "  </thead>\n",
       "  <tbody>\n",
       "    <tr>\n",
       "      <th>0</th>\n",
       "      <td>excellent service with any insurance claim you...</td>\n",
       "    </tr>\n",
       "    <tr>\n",
       "      <th>1</th>\n",
       "      <td>i never received the phone. you sent me a note...</td>\n",
       "    </tr>\n",
       "    <tr>\n",
       "      <th>2</th>\n",
       "      <td>absolutely disgusted with asurion - not trustw...</td>\n",
       "    </tr>\n",
       "  </tbody>\n",
       "</table>\n",
       "</div>"
      ],
      "text/plain": [
       "                                                text\n",
       "0  excellent service with any insurance claim you...\n",
       "1  i never received the phone. you sent me a note...\n",
       "2  absolutely disgusted with asurion - not trustw..."
      ]
     },
     "execution_count": 11,
     "metadata": {},
     "output_type": "execute_result"
    }
   ],
   "source": [
    "d = {'text': [\"excellent service with any insurance claim you obviously have to explain the damage and click through the fraud acknowledgements, etc. that was not difficult at all.after that, the process was slick slick slick. the claim was filed late on a thursday afternoon and the replacement arrived on the friday morning.clear instructions the whole way and a very simple process\",\n",
    "                 \"i never received the phone. you sent me a note last thursday that it was on its way. today is late tuesday night. still no phone. really frustrating.\",\n",
    "                 \"absolutely disgusted with asurion - not trustworthy, no integrity i am completely disgusted with your company. a cell phone is an essential part of communication, and it is unacceptable for a simple glass replacement to take more than two weeks. from the first scheduled meeting to have the tech come to my home to repair (note that i had to reschedule appointments to be home), they canceled an hour after the scheduled arrival time. service truck was in the shop, multiple reschedule attempts - all failed to have the tech come to my home to fix the issue. five times after they were supposed to arrive, they cancelled! unacceptable. adam with ubreakifix. i finally caved and called at&t for assistance. they helped me get an appointment scheduled by contacting your company on my behalf... this time, there was no rescheduling; they simply did not show up, no call, no text.when i called, the asurion tech shipped the phone, promising that i would receive it the next day via fedex - lie, it arrived two days later. this has been the worst experience - your company's customer service is worse than comcast/xfinity's. satan trained ineffective employees. you're the worst!\"]}\n",
    "\n",
    "results_check = pd.DataFrame(d, columns=['text'])\n",
    "results_check"
   ]
  },
  {
   "cell_type": "code",
   "execution_count": 12,
   "metadata": {},
   "outputs": [
    {
     "data": {
      "text/html": [
       "<div>\n",
       "<style scoped>\n",
       "    .dataframe tbody tr th:only-of-type {\n",
       "        vertical-align: middle;\n",
       "    }\n",
       "\n",
       "    .dataframe tbody tr th {\n",
       "        vertical-align: top;\n",
       "    }\n",
       "\n",
       "    .dataframe thead th {\n",
       "        text-align: right;\n",
       "    }\n",
       "</style>\n",
       "<table border=\"1\" class=\"dataframe\">\n",
       "  <thead>\n",
       "    <tr style=\"text-align: right;\">\n",
       "      <th></th>\n",
       "      <th>text</th>\n",
       "    </tr>\n",
       "  </thead>\n",
       "  <tbody>\n",
       "    <tr>\n",
       "      <th>0</th>\n",
       "      <td>excellent service with any insurance claim you...</td>\n",
       "    </tr>\n",
       "    <tr>\n",
       "      <th>1</th>\n",
       "      <td>i never received the phone you sent me a note ...</td>\n",
       "    </tr>\n",
       "    <tr>\n",
       "      <th>2</th>\n",
       "      <td>absolutely disgusted with asurion not trustwor...</td>\n",
       "    </tr>\n",
       "  </tbody>\n",
       "</table>\n",
       "</div>"
      ],
      "text/plain": [
       "                                                text\n",
       "0  excellent service with any insurance claim you...\n",
       "1  i never received the phone you sent me a note ...\n",
       "2  absolutely disgusted with asurion not trustwor..."
      ]
     },
     "execution_count": 12,
     "metadata": {},
     "output_type": "execute_result"
    }
   ],
   "source": [
    "text_cleaner(\"text\")\n",
    "delete_punctiation(results_check, \"text\")\n",
    "truncate_text_column(results_check, 'text')"
   ]
  },
  {
   "cell_type": "code",
   "execution_count": 13,
   "metadata": {},
   "outputs": [
    {
     "data": {
      "text/plain": [
       "array([5, 1, 1])"
      ]
     },
     "execution_count": 13,
     "metadata": {},
     "output_type": "execute_result"
    }
   ],
   "source": [
    "loaded_clf.predict(results_check[\"text\"])"
   ]
  },
  {
   "cell_type": "markdown",
   "metadata": {},
   "source": [
    "# Retrain model on all data and save it"
   ]
  },
  {
   "cell_type": "code",
   "execution_count": 14,
   "metadata": {},
   "outputs": [
    {
     "data": {
      "text/plain": [
       "['mnb_final_model.joblib']"
      ]
     },
     "execution_count": 14,
     "metadata": {},
     "output_type": "execute_result"
    }
   ],
   "source": [
    "clf_final = Pipeline([\n",
    "    ('vectorizer', CountVectorizer()),  # Convert text to numerical features using a Bag-of-Words approach\n",
    "    ('classifier', MultinomialNB())  # Train a Multinomial Naive Bayes classifier\n",
    "])\n",
    "\n",
    "clf_final.fit(X, y)\n",
    "# save the trained model as a joblib file\n",
    "joblib.dump(clf_final, 'mnb_final_model.joblib')"
   ]
  }
 ],
 "metadata": {
  "interpreter": {
   "hash": "d50364bd663d9ebf9b9ffc8e6ffd521fedba8feed24097f1672094e6d38bb166"
  },
  "kernelspec": {
   "display_name": "Python 3.9.12 ('base')",
   "language": "python",
   "name": "python3"
  },
  "language_info": {
   "codemirror_mode": {
    "name": "ipython",
    "version": 3
   },
   "file_extension": ".py",
   "mimetype": "text/x-python",
   "name": "python",
   "nbconvert_exporter": "python",
   "pygments_lexer": "ipython3",
   "version": "3.9.12"
  },
  "orig_nbformat": 4
 },
 "nbformat": 4,
 "nbformat_minor": 2
}
