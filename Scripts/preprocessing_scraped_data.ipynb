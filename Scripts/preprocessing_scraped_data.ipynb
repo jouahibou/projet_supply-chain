{
 "cells": [
  {
   "cell_type": "code",
   "execution_count": 79,
   "id": "b4235192",
   "metadata": {},
   "outputs": [
    {
     "data": {
      "text/html": [
       "<style>.container { width:100% !important; }</style>"
      ],
      "text/plain": [
       "<IPython.core.display.HTML object>"
      ]
     },
     "metadata": {},
     "output_type": "display_data"
    }
   ],
   "source": [
    "from IPython.display import display, HTML\n",
    "import pandas as pd\n",
    "import numpy as np\n",
    "import warnings\n",
    "\n",
    "warnings.filterwarnings('ignore')\n",
    "display(HTML(\"<style>.container { width:100% !important; }</style>\"))"
   ]
  },
  {
   "cell_type": "code",
   "execution_count": 80,
   "id": "c3b5f417",
   "metadata": {},
   "outputs": [],
   "source": [
    "#import scraped data\n",
    "df = pd.read_csv(\"/Users/kristofszucs/Documents/jupyter_notebooks/projet_supply_chain_datascientest/asurion_complete.csv\")"
   ]
  },
  {
   "cell_type": "code",
   "execution_count": 81,
   "id": "19a550b6",
   "metadata": {},
   "outputs": [],
   "source": [
    "# clean chosen columns (delete extra space and lower all chars)\n",
    "def text_cleaner(column): \n",
    "    df[column] = df[column].str.lower() \\\n",
    "                            .str.strip() \\\n",
    "                            .str.replace(r'\\s+', ' ')"
   ]
  },
  {
   "cell_type": "code",
   "execution_count": 82,
   "id": "8b256501",
   "metadata": {},
   "outputs": [],
   "source": [
    "# run the text cleaner function on three specific columns\n",
    "for c in [\"titre\",\"nom\",\"comment\"]:\n",
    "    text_cleaner(c)"
   ]
  },
  {
   "cell_type": "code",
   "execution_count": 83,
   "id": "3504b81f",
   "metadata": {},
   "outputs": [],
   "source": [
    "# unique cleaning steps for different columns\n",
    "df[\"nom\"] = df[\"nom\"].str.replace(\".\",\"\")\n",
    "df[\"stars\"] = df[\"stars\"].str[6]\n",
    "df[\"nb_reviews\"] = df[\"nb_reviews\"].str[0]\n",
    "df[\"date_experience\"] = df[\"date_experience\"].str.replace(\"Date of experience: \",\"\")\n",
    "df[\"date_review\"] = pd.to_datetime(df[\"date_review\"])\n",
    "df[\"date_experience\"] = pd.to_datetime(df[\"date_experience\"])"
   ]
  },
  {
   "cell_type": "code",
   "execution_count": 84,
   "id": "02192f25",
   "metadata": {},
   "outputs": [],
   "source": [
    "# output a cleaner version of our data\n",
    "df.to_csv('asurion_preprocess.csv',index=False)"
   ]
  }
 ],
 "metadata": {
  "kernelspec": {
   "display_name": "Python 3 (ipykernel)",
   "language": "python",
   "name": "python3"
  },
  "language_info": {
   "codemirror_mode": {
    "name": "ipython",
    "version": 3
   },
   "file_extension": ".py",
   "mimetype": "text/x-python",
   "name": "python",
   "nbconvert_exporter": "python",
   "pygments_lexer": "ipython3",
   "version": "3.9.12"
  }
 },
 "nbformat": 4,
 "nbformat_minor": 5
}
